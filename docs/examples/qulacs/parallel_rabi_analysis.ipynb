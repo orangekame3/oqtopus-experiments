{
 "cells": [
  {
   "cell_type": "markdown",
   "metadata": {},
   "source": "# Parallel Rabi Experiment with Interactive Analysis\n\nThis notebook demonstrates how to run Rabi oscillation experiments in parallel on OQTOPUS Qulacs backend and analyze the results using pandas DataFrames and interactive plotly visualizations.\n\n## Key Features\n- **Parallel execution** for faster experiments\n- **Pandas DataFrame** results for easy data analysis\n- **Interactive plotly** visualizations\n- **Automatic transpilation** to physical qubits\n- **Parameter embedding** for reproducible results"
  },
  {
   "cell_type": "code",
   "execution_count": 1,
   "metadata": {},
   "outputs": [],
   "source": [
    "# Import required libraries\n",
    "import pandas as pd\n",
    "import numpy as np\n",
    "from oqtopus_experiments.backends import OqtopusBackend\n",
    "from oqtopus_experiments.experiments import Rabi"
   ]
  },
  {
   "cell_type": "markdown",
   "metadata": {},
   "source": [
    "## 1. Setup Backend and Experiment\n",
    "\n",
    "We'll use the OQTOPUS Qulacs backend for noiseless quantum simulation."
   ]
  },
  {
   "cell_type": "code",
   "execution_count": 2,
   "metadata": {},
   "outputs": [
    {
     "name": "stdout",
     "output_type": "stream",
     "text": [
      "✅ OQTOPUS backend initialized (device: qulacs, timeout: 120s)\n",
      "Backend initialized: qulacs\n",
      "Backend available: True\n"
     ]
    }
   ],
   "source": [
    "# Initialize OQTOPUS backend for Qulacs\n",
    "backend = OqtopusBackend(device=\"qulacs\")\n",
    "print(f\"Backend initialized: {backend.device_name}\")\n",
    "print(f\"Backend available: {backend.available}\")"
   ]
  },
  {
   "cell_type": "code",
   "execution_count": 3,
   "metadata": {},
   "outputs": [
    {
     "name": "stdout",
     "output_type": "stream",
     "text": [
      "Results: .results/parallel_rabi_notebook_20250720_142515\n",
      "Rabi: parallel_rabi_notebook\n",
      "Experiment: parallel_rabi_notebook\n",
      "Physical qubit: 3\n",
      "Amplitude points: 15\n",
      "Max amplitude: 2.0\n"
     ]
    }
   ],
   "source": [
    "# Create Rabi experiment with physical qubit specification\n",
    "rabi = Rabi(\n",
    "    experiment_name=\"parallel_rabi_notebook\",\n",
    "    physical_qubit=3,  # Target physical qubit for transpilation\n",
    "    amplitude_points=15,  # More points for smoother curve\n",
    "    max_amplitude=2.0,  # Cover full 2π range\n",
    ")\n",
    "\n",
    "print(f\"Experiment: {rabi.experiment_name}\")\n",
    "print(f\"Physical qubit: {rabi.physical_qubit}\")\n",
    "print(f\"Amplitude points: {rabi.amplitude_points}\")\n",
    "print(f\"Max amplitude: {rabi.max_amplitude}\")"
   ]
  },
  {
   "cell_type": "markdown",
   "metadata": {},
   "source": [
    "## 2. Generate Quantum Circuits\n",
    "\n",
    "The circuits will be automatically transpiled to the specified physical qubit."
   ]
  },
  {
   "cell_type": "code",
   "execution_count": 4,
   "metadata": {},
   "outputs": [
    {
     "name": "stdout",
     "output_type": "stream",
     "text": [
      "Created 15 Rabi circuits (amplitude range: 0.000 - 2.000)\n",
      "Physical qubit 3 specified, performing transpilation...\n",
      "✅ Device 'anemone' information loaded successfully\n",
      "✅ Transpiled 15 circuits to physical qubit 3\n",
      "Generated 15 circuits\n",
      "Circuit collection type: <class 'oqtopus_experiments.models.circuit_collection.CircuitCollection'>\n"
     ]
    }
   ],
   "source": [
    "# Generate circuits with automatic transpilation\n",
    "circuits = rabi.circuits()\n",
    "print(f\"Generated {len(circuits)} circuits\")\n",
    "print(f\"Circuit collection type: {type(circuits)}\")"
   ]
  },
  {
   "cell_type": "code",
   "execution_count": 5,
   "metadata": {},
   "outputs": [
    {
     "name": "stdout",
     "output_type": "stream",
     "text": [
      "Sample transpiled circuit (amplitude ≈ 0.5):\n",
      "                                                                    \n",
      "  ancilla_0 -> 0 ───────────────────────────────────────────────────\n",
      "                                                                    \n",
      "  ancilla_1 -> 1 ───────────────────────────────────────────────────\n",
      "                                                                    \n",
      "  ancilla_2 -> 2 ───────────────────────────────────────────────────\n",
      "                 ┌─────────┐┌────┐┌───────────┐┌────┐┌──────────┐┌─┐\n",
      "        q_0 -> 3 ┤ Rz(π/2) ├┤ √X ├┤ Rz(13π/7) ├┤ √X ├┤ Rz(5π/2) ├┤M├\n",
      "                 └─────────┘└────┘└───────────┘└────┘└──────────┘└╥┘\n",
      "  ancilla_3 -> 4 ─────────────────────────────────────────────────╫─\n",
      "                                                                  ║ \n",
      "  ancilla_4 -> 5 ─────────────────────────────────────────────────╫─\n",
      "                                                                  ║ \n",
      "  ancilla_5 -> 6 ─────────────────────────────────────────────────╫─\n",
      "                                                                  ║ \n",
      "  ancilla_6 -> 7 ─────────────────────────────────────────────────╫─\n",
      "                                                                  ║ \n",
      "  ancilla_7 -> 8 ─────────────────────────────────────────────────╫─\n",
      "                                                                  ║ \n",
      "  ancilla_8 -> 9 ─────────────────────────────────────────────────╫─\n",
      "                                                                  ║ \n",
      " ancilla_9 -> 10 ─────────────────────────────────────────────────╫─\n",
      "                                                                  ║ \n",
      "ancilla_10 -> 11 ─────────────────────────────────────────────────╫─\n",
      "                                                                  ║ \n",
      "ancilla_11 -> 12 ─────────────────────────────────────────────────╫─\n",
      "                                                                  ║ \n",
      "ancilla_12 -> 13 ─────────────────────────────────────────────────╫─\n",
      "                                                                  ║ \n",
      "ancilla_13 -> 14 ─────────────────────────────────────────────────╫─\n",
      "                                                                  ║ \n",
      "ancilla_14 -> 15 ─────────────────────────────────────────────────╫─\n",
      "                                                                  ║ \n",
      "ancilla_15 -> 16 ─────────────────────────────────────────────────╫─\n",
      "                                                                  ║ \n",
      "ancilla_16 -> 17 ─────────────────────────────────────────────────╫─\n",
      "                                                                  ║ \n",
      "ancilla_17 -> 18 ─────────────────────────────────────────────────╫─\n",
      "                                                                  ║ \n",
      "ancilla_18 -> 19 ─────────────────────────────────────────────────╫─\n",
      "                                                                  ║ \n",
      "ancilla_19 -> 20 ─────────────────────────────────────────────────╫─\n",
      "                                                                  ║ \n",
      "ancilla_20 -> 21 ─────────────────────────────────────────────────╫─\n",
      "                                                                  ║ \n",
      "ancilla_21 -> 22 ─────────────────────────────────────────────────╫─\n",
      "                                                                  ║ \n",
      "ancilla_22 -> 23 ─────────────────────────────────────────────────╫─\n",
      "                                                                  ║ \n",
      "ancilla_23 -> 24 ─────────────────────────────────────────────────╫─\n",
      "                                                                  ║ \n",
      "ancilla_24 -> 25 ─────────────────────────────────────────────────╫─\n",
      "                                                                  ║ \n",
      "ancilla_25 -> 26 ─────────────────────────────────────────────────╫─\n",
      "                                                                  ║ \n",
      "ancilla_26 -> 27 ─────────────────────────────────────────────────╫─\n",
      "                                                                  ║ \n",
      "ancilla_27 -> 28 ─────────────────────────────────────────────────╫─\n",
      "                                                                  ║ \n",
      "ancilla_28 -> 29 ─────────────────────────────────────────────────╫─\n",
      "                                                                  ║ \n",
      "            c: 1/═════════════════════════════════════════════════╩═\n",
      "                                                                  0 \n"
     ]
    }
   ],
   "source": [
    "# Examine a sample transpiled circuit\n",
    "print(\"Sample transpiled circuit (amplitude ≈ 0.5):\")\n",
    "print(circuits[6].draw())"
   ]
  },
  {
   "cell_type": "markdown",
   "metadata": {},
   "source": [
    "## 3. Parallel Execution\n",
    "\n",
    "Run all circuits in parallel for efficient data collection."
   ]
  },
  {
   "cell_type": "code",
   "execution_count": 6,
   "metadata": {},
   "outputs": [
    {
     "name": "stdout",
     "output_type": "stream",
     "text": [
      "Running Rabi in parallel\n",
      "Using pre-created circuits: 15 circuits\n",
      "Auto-transpiling circuits: logical qubit 0 → physical qubit 3\n",
      "❌ Failed to load device 'qulacs': 'rzx90'\n",
      "✅ Transpilation successful\n",
      "Transpiled circuit sample:\n",
      "                                                                   \n",
      "  ancilla_0 -> 0 ──────────────────────────────────────────────────\n",
      "                                                                   \n",
      "  ancilla_1 -> 1 ──────────────────────────────────────────────────\n",
      "                                                                   \n",
      "  ancilla_2 -> 2 ──────────────────────────────────────────────────\n",
      "                 ┌─────────┐┌────┐┌──────────┐┌────┐┌──────────┐┌─┐\n",
      "        q_0 -> 3 ┤ Rz(π/2) ├┤ √X ├┤ Rz(8π/7) ├┤ √X ├┤ Rz(5π/2) ├┤M├\n",
      "                 └─────────┘└────┘└──────────┘└────┘└──────────┘└╥┘\n",
      "  ancilla_3 -> 4 ────────────────────────────────────────────────╫─\n",
      "                                                                 ║ \n",
      "  ancilla_4 -> 5 ────────────────────────────────────────────────╫─\n",
      "                                                                 ║ \n",
      "  ancilla_5 -> 6 ────────────────────────────────────────────────╫─\n",
      "                                                                 ║ \n",
      "  ancilla_6 -> 7 ────────────────────────────────────────────────╫─\n",
      "                                                                 ║ \n",
      "  ancilla_7 -> 8 ────────────────────────────────────────────────╫─\n",
      "                                                                 ║ \n",
      "  ancilla_8 -> 9 ────────────────────────────────────────────────╫─\n",
      "                                                                 ║ \n",
      " ancilla_9 -> 10 ────────────────────────────────────────────────╫─\n",
      "                                                                 ║ \n",
      "ancilla_10 -> 11 ────────────────────────────────────────────────╫─\n",
      "                                                                 ║ \n",
      "ancilla_11 -> 12 ────────────────────────────────────────────────╫─\n",
      "                                                                 ║ \n",
      "ancilla_12 -> 13 ────────────────────────────────────────────────╫─\n",
      "                                                                 ║ \n",
      "ancilla_13 -> 14 ────────────────────────────────────────────────╫─\n",
      "                                                                 ║ \n",
      "ancilla_14 -> 15 ────────────────────────────────────────────────╫─\n",
      "                                                                 ║ \n",
      "ancilla_15 -> 16 ────────────────────────────────────────────────╫─\n",
      "                                                                 ║ \n",
      "ancilla_16 -> 17 ────────────────────────────────────────────────╫─\n",
      "                                                                 ║ \n",
      "ancilla_17 -> 18 ────────────────────────────────────────────────╫─\n",
      "                                                                 ║ \n",
      "ancilla_18 -> 19 ────────────────────────────────────────────────╫─\n",
      "                                                                 ║ \n",
      "ancilla_19 -> 20 ────────────────────────────────────────────────╫─\n",
      "                                                                 ║ \n",
      "ancilla_20 -> 21 ────────────────────────────────────────────────╫─\n",
      "                                                                 ║ \n",
      "ancilla_21 -> 22 ────────────────────────────────────────────────╫─\n",
      "                                                                 ║ \n",
      "ancilla_22 -> 23 ────────────────────────────────────────────────╫─\n",
      "                                                                 ║ \n",
      "ancilla_23 -> 24 ────────────────────────────────────────────────╫─\n",
      "                                                                 ║ \n",
      "ancilla_24 -> 25 ────────────────────────────────────────────────╫─\n",
      "                                                                 ║ \n",
      "ancilla_25 -> 26 ────────────────────────────────────────────────╫─\n",
      "                                                                 ║ \n",
      "ancilla_26 -> 27 ────────────────────────────────────────────────╫─\n",
      "                                                                 ║ \n",
      "ancilla_27 -> 28 ────────────────────────────────────────────────╫─\n",
      "                                                                 ║ \n",
      "ancilla_28 -> 29 ────────────────────────────────────────────────╫─\n",
      "                                                                 ║ \n",
      "            c: 1/════════════════════════════════════════════════╩═\n",
      "                                                                 0 \n",
      "Submitting 15 circuits in parallel to qulacs\n",
      "Circuit 1: physical qubit specified, disabling OQTOPUS transpilation\n",
      "Circuit 2: physical qubit specified, disabling OQTOPUS transpilation\n",
      "Circuit 3: physical qubit specified, disabling OQTOPUS transpilation\n",
      "Circuit 4: physical qubit specified, disabling OQTOPUS transpilation\n",
      "Circuit 5: physical qubit specified, disabling OQTOPUS transpilationCircuit 6: physical qubit specified, disabling OQTOPUS transpilation\n",
      "Circuit 2/15 (experiment=rabi, amplitude=0.14285714285714285, logical_qubit=0, physical_qubit=3, rotation_angle=0.4487989505128276) → qulacs: 0687c7dc...\n",
      "Circuit 1/15 (experiment=rabi, amplitude=0.0, logical_qubit=0, physical_qubit=3, rotation_angle=0.0) → qulacs: 0687c7dc...\n",
      "\n",
      "Circuit 7: physical qubit specified, disabling OQTOPUS transpilation\n",
      "Circuit 3/15 (experiment=rabi, amplitude=0.2857142857142857, logical_qubit=0, physical_qubit=3, rotation_angle=0.8975979010256552) → qulacs: 0687c7dc...\n",
      "Circuit 8: physical qubit specified, disabling OQTOPUS transpilationCircuit 4/15 (experiment=rabi, amplitude=0.42857142857142855, logical_qubit=0, physical_qubit=3, rotation_angle=1.3463968515384828) → qulacs: 0687c7dc...\n",
      "\n",
      "Circuit 9: physical qubit specified, disabling OQTOPUS transpilationCircuit 7/15 (experiment=rabi, amplitude=0.8571428571428571, logical_qubit=0, physical_qubit=3, rotation_angle=2.6927937030769655) → qulacs: 0687c7dc...\n",
      "\n",
      "Circuit 10: physical qubit specified, disabling OQTOPUS transpilation\n",
      "Circuit 5/15 (experiment=rabi, amplitude=0.5714285714285714, logical_qubit=0, physical_qubit=3, rotation_angle=1.7951958020513104) → qulacs: 0687c7dc...\n",
      "Circuit 11: physical qubit specified, disabling OQTOPUS transpilationCircuit 6/15 (experiment=rabi, amplitude=0.7142857142857142, logical_qubit=0, physical_qubit=3, rotation_angle=2.2439947525641375) → qulacs: 0687c7dc...\n",
      "\n",
      "Circuit 12: physical qubit specified, disabling OQTOPUS transpilationCircuit 8/15 (experiment=rabi, amplitude=1.0, logical_qubit=0, physical_qubit=3, rotation_angle=3.141592653589793) → qulacs: 0687c7dc...\n",
      "\n",
      "Circuit 13: physical qubit specified, disabling OQTOPUS transpilationCircuit 9/15 (experiment=rabi, amplitude=1.1428571428571428, logical_qubit=0, physical_qubit=3, rotation_angle=3.5903916041026207) → qulacs: 0687c7dc...\n",
      "\n",
      "Circuit 14: physical qubit specified, disabling OQTOPUS transpilationCircuit 10/15 (experiment=rabi, amplitude=1.2857142857142856, logical_qubit=0, physical_qubit=3, rotation_angle=4.039190554615448) → qulacs: 0687c7dc...\n",
      "\n",
      "Circuit 15: physical qubit specified, disabling OQTOPUS transpilationCircuit 11/15 (experiment=rabi, amplitude=1.4285714285714284, logical_qubit=0, physical_qubit=3, rotation_angle=4.487989505128275) → qulacs: 0687c7dc...\n",
      "\n",
      "Circuit 12/15 (experiment=rabi, amplitude=1.5714285714285714, logical_qubit=0, physical_qubit=3, rotation_angle=4.9367884556411035) → qulacs: 0687c7dc...\n",
      "Circuit 15/15 (experiment=rabi, amplitude=2.0, logical_qubit=0, physical_qubit=3, rotation_angle=6.283185307179586) → qulacs: 0687c7dc...\n",
      "Circuit 13/15 (experiment=rabi, amplitude=1.7142857142857142, logical_qubit=0, physical_qubit=3, rotation_angle=5.385587406153931) → qulacs: 0687c7dc...\n",
      "Circuit 14/15 (experiment=rabi, amplitude=1.857142857142857, logical_qubit=0, physical_qubit=3, rotation_angle=5.834386356666758) → qulacs: 0687c7dc...\n",
      "✅ qulacs: 15 jobs submitted with parameters\n",
      "Collecting 15 results\n",
      "Collecting results from OQTOPUS...\n",
      "⏳ 0687c7dc... status: running (attempt 1)\n",
      "⏳ 0687c7dc... status: running (attempt 1)\n",
      "⏳ 0687c7dc... status: running (attempt 2)\n",
      "⏳ 0687c7dc... status: running (attempt 2)\n",
      "⏳ 0687c7dc... status: running (attempt 3)\n",
      "⏳ 0687c7dc... status: running (attempt 3)\n",
      "⏳ 0687c7dc... status: running (attempt 4)\n",
      "⏳ 0687c7dc... status: running (attempt 4)\n",
      "✅ qulacs: 0687c7dc... collected\n",
      "✅ qulacs: 0687c7dc... collected\n",
      "⏰ 0687c7dc... still running after 5 attempts\n",
      "⏰ 0687c7dc... still running after 5 attempts\n",
      "✅ qulacs: 0687c7dc... collected\n",
      "✅ qulacs: 0687c7dc... collected\n",
      "✅ qulacs: 0687c7dc... collected\n",
      "✅ qulacs: 0687c7dc... collected\n",
      "✅ qulacs: 0687c7dc... collected✅ qulacs: 0687c7dc... collected\n",
      "\n",
      "✅ qulacs: 0687c7dc... collected\n",
      "✅ qulacs: 0687c7dc... collected\n",
      "✅ qulacs: 0687c7dc... collected\n",
      "✅ qulacs: 0687c7dc... collected\n",
      "✅ qulacs: 0687c7dc... collected\n",
      "🔄 Retrying 2 failed jobs...\n",
      "✅ qulacs: 0687c7dc... collected\n",
      "✅ Retry successful for job 2\n",
      "✅ qulacs: 0687c7dc... collected\n",
      "✅ Retry successful for job 1\n",
      "📊 Collection summary: 15 success, 0 failed, 0 timeout/error\n",
      "✅ qulacs: 15 results collected successfully\n",
      "Rabi completed\n",
      "Experiment completed successfully!\n",
      "Result type: <class 'oqtopus_experiments.models.experiment_result.ExperimentResult'>\n"
     ]
    }
   ],
   "source": [
    "# Execute experiments in parallel\n",
    "result = rabi.run_parallel(\n",
    "    backend=backend, \n",
    "    shots=1000,  # Number of measurements per circuit\n",
    "    workers=4    # Parallel workers\n",
    ")\n",
    "\n",
    "print(f\"Experiment completed successfully!\")\n",
    "print(f\"Result type: {type(result)}\")"
   ]
  },
  {
   "cell_type": "markdown",
   "metadata": {},
   "source": [
    "## 4. Data Analysis with Pandas DataFrame\n",
    "\n",
    "Analyze results using pandas for powerful data manipulation."
   ]
  },
  {
   "cell_type": "code",
   "execution_count": null,
   "metadata": {},
   "outputs": [],
   "source": "# Convert results to pandas DataFrame (always returns DataFrame now)\ndf = result.analyze(plot=True, save_data=False)\nprint(f\"DataFrame shape: {df.shape}\")\nprint(f\"Columns: {list(df.columns)}\")\ndf.head()"
  },
  {
   "cell_type": "code",
   "execution_count": 8,
   "metadata": {},
   "outputs": [
    {
     "name": "stdout",
     "output_type": "stream",
     "text": [
      "Fitting Results:\n",
      "    device  pi_amplitude  frequency  r_squared\n",
      "0  backend      0.459118   1.089044   0.045935\n"
     ]
    }
   ],
   "source": [
    "# Display fitting parameters\n",
    "fitting_params = df[['device', 'pi_amplitude', 'frequency', 'r_squared']].drop_duplicates()\n",
    "print(\"Fitting Results:\")\n",
    "print(fitting_params)"
   ]
  },
  {
   "cell_type": "code",
   "execution_count": 9,
   "metadata": {},
   "outputs": [
    {
     "name": "stdout",
     "output_type": "stream",
     "text": [
      "Data Summary:\n",
      "       amplitude  probability\n",
      "count  15.000000    15.000000\n",
      "mean    1.000000     0.466200\n",
      "std     0.638877     0.377532\n",
      "min     0.000000     0.000000\n",
      "25%     0.500000     0.117117\n",
      "50%     1.000000     0.392392\n",
      "75%     1.500000     0.810811\n",
      "max     2.000000     1.000000\n"
     ]
    }
   ],
   "source": [
    "# Statistical summary\n",
    "print(\"Data Summary:\")\n",
    "print(df[['amplitude', 'probability']].describe())"
   ]
  },
  {
   "cell_type": "markdown",
   "metadata": {},
   "source": [
    "## 5. Interactive Visualization\n",
    "\n",
    "Create an interactive plotly visualization showing the Rabi oscillation with fitted curve."
   ]
  },
  {
   "cell_type": "code",
   "execution_count": null,
   "metadata": {},
   "outputs": [],
   "source": "# Generate interactive plot (DataFrame is returned automatically)\ndf_with_plot = result.analyze(plot=True, save_data=False)\nprint(\"Interactive plot created! Check the output above.\")"
  },
  {
   "cell_type": "markdown",
   "metadata": {},
   "source": [
    "## 6. Advanced Analysis\n",
    "\n",
    "Perform additional analysis using pandas functionality."
   ]
  },
  {
   "cell_type": "code",
   "execution_count": null,
   "metadata": {},
   "outputs": [],
   "source": "# Find π-pulse amplitude\npi_amplitude = df['pi_amplitude'].iloc[0]\nfrequency = df['frequency'].iloc[0]\nr_squared = df['r_squared'].iloc[0]\n\nprint(f\"Analysis Results:\")\nprint(f\"   π-pulse amplitude: {pi_amplitude:.4f}\")\nprint(f\"   Rabi frequency: {frequency:.4f}\")\nprint(f\"   Fit quality (R²): {r_squared:.4f}\")\n\n# Theoretical π-pulse positions\npi_positions = [pi_amplitude * (2*n + 1) for n in range(3)]\nprint(f\"\\nTheoretical π-pulse positions: {[f'{p:.3f}' for p in pi_positions]}\")"
  },
  {
   "cell_type": "code",
   "execution_count": null,
   "metadata": {},
   "outputs": [],
   "source": "# Find data points near π-pulses\ntolerance = 0.1\npi_data = []\n\nfor i, pi_pos in enumerate(pi_positions):\n    near_pi = df[abs(df['amplitude'] - pi_pos) < tolerance]\n    if not near_pi.empty:\n        closest = near_pi.iloc[0]\n        pi_data.append({\n            'π_pulse': f'π×{2*i+1}',\n            'amplitude': closest['amplitude'],\n            'probability': closest['probability']\n        })\n\npi_df = pd.DataFrame(pi_data)\nprint(\"\\nData points near π-pulses:\")\nprint(pi_df)"
  },
  {
   "cell_type": "code",
   "execution_count": null,
   "metadata": {},
   "outputs": [],
   "source": "# Export results to CSV for further analysis\ncsv_filename = f\"rabi_results_{rabi.experiment_name}.csv\"\ndf.to_csv(csv_filename, index=False)\nprint(f\"\\nResults saved to: {csv_filename}\")\n\n# Show file info\nimport os\nfile_size = os.path.getsize(csv_filename)\nprint(f\"   File size: {file_size} bytes\")\nprint(f\"   Rows exported: {len(df)}\")"
  },
  {
   "cell_type": "markdown",
   "metadata": {},
   "source": "## 7. Summary\n\nThis notebook demonstrated:\n\n- **Parallel Rabi experiment** execution on OQTOPUS Qulacs  \n- **Automatic transpilation** to physical qubits  \n- **DataFrame conversion** for easy data analysis  \n- **Interactive plotly visualization** with fitting curves  \n- **Advanced pandas analysis** for detailed insights  \n- **Data export** for reproducible research  \n\nThe combination of parallel execution, DataFrame results, and interactive visualization makes quantum experiment analysis both efficient and insightful."
  },
  {
   "cell_type": "code",
   "execution_count": null,
   "metadata": {},
   "outputs": [],
   "source": "# Final summary\nprint(\"Parallel Rabi Analysis Complete!\")\nprint(f\"   Experiment: {rabi.experiment_name}\")\nprint(f\"   Physical qubit: {rabi.physical_qubit}\")\nprint(f\"   Data points: {len(df)}\")\nprint(f\"   π-pulse amplitude: {pi_amplitude:.4f}\")\nprint(f\"   Fit quality: {r_squared:.4f}\")\nprint(f\"   Results saved: {csv_filename}\")"
  },
  {
   "cell_type": "code",
   "execution_count": 16,
   "metadata": {},
   "outputs": [
    {
     "data": {
      "text/html": [
       "<div>            <script src=\"https://cdnjs.cloudflare.com/ajax/libs/mathjax/2.7.5/MathJax.js?config=TeX-AMS-MML_SVG\"></script><script type=\"text/javascript\">if (window.MathJax && window.MathJax.Hub && window.MathJax.Hub.Config) {window.MathJax.Hub.Config({SVG: {font: \"STIX-Web\"}});}</script>                <script type=\"text/javascript\">window.PlotlyConfig = {MathJaxConfig: 'local'};</script>\n",
       "        <script charset=\"utf-8\" src=\"https://cdn.plot.ly/plotly-3.0.1.min.js\" integrity=\"sha256-oy6Be7Eh6eiQFs5M7oXuPxxm9qbJXEtTpfSI93dW16Q=\" crossorigin=\"anonymous\"></script>                <div id=\"5be8def3-66e1-47ea-a2a9-526fd92b1b7d\" class=\"plotly-graph-div\" style=\"height:525px; width:100%;\"></div>            <script type=\"text/javascript\">                window.PLOTLYENV=window.PLOTLYENV || {};                                if (document.getElementById(\"5be8def3-66e1-47ea-a2a9-526fd92b1b7d\")) {                    Plotly.newPlot(                        \"5be8def3-66e1-47ea-a2a9-526fd92b1b7d\",                        [{\"marker\":{\"color\":\"blue\",\"opacity\":0.6,\"size\":8},\"mode\":\"markers\",\"name\":\"Data Points\",\"x\":{\"dtype\":\"f8\",\"bdata\":\"AAAAAAAAAACSJEmSJEnCP5IkSZIkSdI\\u002f27Zt27Zt2z+SJEmSJEniP7Zt27Zt2+Y\\u002f27Zt27Zt6z8AAAAAAADwP5IkSZIkSfI\\u002fJEmSJEmS9D+2bdu2bdv2P0mSJEmSJPk\\u002f27Zt27Zt+z9t27Zt27b9PwAAAAAAAABA\"},\"y\":{\"dtype\":\"f8\",\"bdata\":\"AAAAAAAAAABpWEHXiIalPwJxoeYkEMc\\u002fQnsJ7SW01z8YN2+ChXHjPwmb5YCPsOk\\u002f\\u002ferdssqv7j8AAAAAAADwP1nlV++WVe4\\u002fPKMFhsMz6j9FPusGU+TjP8+RIfv0HNk\\u002fz5Eh+\\u002fQcyT\\u002fQusEU+ayrPwAAAAAAAAAA\"},\"type\":\"scatter\"}],                        {\"template\":{\"data\":{\"barpolar\":[{\"marker\":{\"line\":{\"color\":\"white\",\"width\":0.5},\"pattern\":{\"fillmode\":\"overlay\",\"size\":10,\"solidity\":0.2}},\"type\":\"barpolar\"}],\"bar\":[{\"error_x\":{\"color\":\"#2a3f5f\"},\"error_y\":{\"color\":\"#2a3f5f\"},\"marker\":{\"line\":{\"color\":\"white\",\"width\":0.5},\"pattern\":{\"fillmode\":\"overlay\",\"size\":10,\"solidity\":0.2}},\"type\":\"bar\"}],\"carpet\":[{\"aaxis\":{\"endlinecolor\":\"#2a3f5f\",\"gridcolor\":\"#C8D4E3\",\"linecolor\":\"#C8D4E3\",\"minorgridcolor\":\"#C8D4E3\",\"startlinecolor\":\"#2a3f5f\"},\"baxis\":{\"endlinecolor\":\"#2a3f5f\",\"gridcolor\":\"#C8D4E3\",\"linecolor\":\"#C8D4E3\",\"minorgridcolor\":\"#C8D4E3\",\"startlinecolor\":\"#2a3f5f\"},\"type\":\"carpet\"}],\"choropleth\":[{\"colorbar\":{\"outlinewidth\":0,\"ticks\":\"\"},\"type\":\"choropleth\"}],\"contourcarpet\":[{\"colorbar\":{\"outlinewidth\":0,\"ticks\":\"\"},\"type\":\"contourcarpet\"}],\"contour\":[{\"colorbar\":{\"outlinewidth\":0,\"ticks\":\"\"},\"colorscale\":[[0.0,\"#0d0887\"],[0.1111111111111111,\"#46039f\"],[0.2222222222222222,\"#7201a8\"],[0.3333333333333333,\"#9c179e\"],[0.4444444444444444,\"#bd3786\"],[0.5555555555555556,\"#d8576b\"],[0.6666666666666666,\"#ed7953\"],[0.7777777777777778,\"#fb9f3a\"],[0.8888888888888888,\"#fdca26\"],[1.0,\"#f0f921\"]],\"type\":\"contour\"}],\"heatmap\":[{\"colorbar\":{\"outlinewidth\":0,\"ticks\":\"\"},\"colorscale\":[[0.0,\"#0d0887\"],[0.1111111111111111,\"#46039f\"],[0.2222222222222222,\"#7201a8\"],[0.3333333333333333,\"#9c179e\"],[0.4444444444444444,\"#bd3786\"],[0.5555555555555556,\"#d8576b\"],[0.6666666666666666,\"#ed7953\"],[0.7777777777777778,\"#fb9f3a\"],[0.8888888888888888,\"#fdca26\"],[1.0,\"#f0f921\"]],\"type\":\"heatmap\"}],\"histogram2dcontour\":[{\"colorbar\":{\"outlinewidth\":0,\"ticks\":\"\"},\"colorscale\":[[0.0,\"#0d0887\"],[0.1111111111111111,\"#46039f\"],[0.2222222222222222,\"#7201a8\"],[0.3333333333333333,\"#9c179e\"],[0.4444444444444444,\"#bd3786\"],[0.5555555555555556,\"#d8576b\"],[0.6666666666666666,\"#ed7953\"],[0.7777777777777778,\"#fb9f3a\"],[0.8888888888888888,\"#fdca26\"],[1.0,\"#f0f921\"]],\"type\":\"histogram2dcontour\"}],\"histogram2d\":[{\"colorbar\":{\"outlinewidth\":0,\"ticks\":\"\"},\"colorscale\":[[0.0,\"#0d0887\"],[0.1111111111111111,\"#46039f\"],[0.2222222222222222,\"#7201a8\"],[0.3333333333333333,\"#9c179e\"],[0.4444444444444444,\"#bd3786\"],[0.5555555555555556,\"#d8576b\"],[0.6666666666666666,\"#ed7953\"],[0.7777777777777778,\"#fb9f3a\"],[0.8888888888888888,\"#fdca26\"],[1.0,\"#f0f921\"]],\"type\":\"histogram2d\"}],\"histogram\":[{\"marker\":{\"pattern\":{\"fillmode\":\"overlay\",\"size\":10,\"solidity\":0.2}},\"type\":\"histogram\"}],\"mesh3d\":[{\"colorbar\":{\"outlinewidth\":0,\"ticks\":\"\"},\"type\":\"mesh3d\"}],\"parcoords\":[{\"line\":{\"colorbar\":{\"outlinewidth\":0,\"ticks\":\"\"}},\"type\":\"parcoords\"}],\"pie\":[{\"automargin\":true,\"type\":\"pie\"}],\"scatter3d\":[{\"line\":{\"colorbar\":{\"outlinewidth\":0,\"ticks\":\"\"}},\"marker\":{\"colorbar\":{\"outlinewidth\":0,\"ticks\":\"\"}},\"type\":\"scatter3d\"}],\"scattercarpet\":[{\"marker\":{\"colorbar\":{\"outlinewidth\":0,\"ticks\":\"\"}},\"type\":\"scattercarpet\"}],\"scattergeo\":[{\"marker\":{\"colorbar\":{\"outlinewidth\":0,\"ticks\":\"\"}},\"type\":\"scattergeo\"}],\"scattergl\":[{\"marker\":{\"colorbar\":{\"outlinewidth\":0,\"ticks\":\"\"}},\"type\":\"scattergl\"}],\"scattermapbox\":[{\"marker\":{\"colorbar\":{\"outlinewidth\":0,\"ticks\":\"\"}},\"type\":\"scattermapbox\"}],\"scattermap\":[{\"marker\":{\"colorbar\":{\"outlinewidth\":0,\"ticks\":\"\"}},\"type\":\"scattermap\"}],\"scatterpolargl\":[{\"marker\":{\"colorbar\":{\"outlinewidth\":0,\"ticks\":\"\"}},\"type\":\"scatterpolargl\"}],\"scatterpolar\":[{\"marker\":{\"colorbar\":{\"outlinewidth\":0,\"ticks\":\"\"}},\"type\":\"scatterpolar\"}],\"scatter\":[{\"fillpattern\":{\"fillmode\":\"overlay\",\"size\":10,\"solidity\":0.2},\"type\":\"scatter\"}],\"scatterternary\":[{\"marker\":{\"colorbar\":{\"outlinewidth\":0,\"ticks\":\"\"}},\"type\":\"scatterternary\"}],\"surface\":[{\"colorbar\":{\"outlinewidth\":0,\"ticks\":\"\"},\"colorscale\":[[0.0,\"#0d0887\"],[0.1111111111111111,\"#46039f\"],[0.2222222222222222,\"#7201a8\"],[0.3333333333333333,\"#9c179e\"],[0.4444444444444444,\"#bd3786\"],[0.5555555555555556,\"#d8576b\"],[0.6666666666666666,\"#ed7953\"],[0.7777777777777778,\"#fb9f3a\"],[0.8888888888888888,\"#fdca26\"],[1.0,\"#f0f921\"]],\"type\":\"surface\"}],\"table\":[{\"cells\":{\"fill\":{\"color\":\"#EBF0F8\"},\"line\":{\"color\":\"white\"}},\"header\":{\"fill\":{\"color\":\"#C8D4E3\"},\"line\":{\"color\":\"white\"}},\"type\":\"table\"}]},\"layout\":{\"annotationdefaults\":{\"arrowcolor\":\"#2a3f5f\",\"arrowhead\":0,\"arrowwidth\":1},\"autotypenumbers\":\"strict\",\"coloraxis\":{\"colorbar\":{\"outlinewidth\":0,\"ticks\":\"\"}},\"colorscale\":{\"diverging\":[[0,\"#8e0152\"],[0.1,\"#c51b7d\"],[0.2,\"#de77ae\"],[0.3,\"#f1b6da\"],[0.4,\"#fde0ef\"],[0.5,\"#f7f7f7\"],[0.6,\"#e6f5d0\"],[0.7,\"#b8e186\"],[0.8,\"#7fbc41\"],[0.9,\"#4d9221\"],[1,\"#276419\"]],\"sequential\":[[0.0,\"#0d0887\"],[0.1111111111111111,\"#46039f\"],[0.2222222222222222,\"#7201a8\"],[0.3333333333333333,\"#9c179e\"],[0.4444444444444444,\"#bd3786\"],[0.5555555555555556,\"#d8576b\"],[0.6666666666666666,\"#ed7953\"],[0.7777777777777778,\"#fb9f3a\"],[0.8888888888888888,\"#fdca26\"],[1.0,\"#f0f921\"]],\"sequentialminus\":[[0.0,\"#0d0887\"],[0.1111111111111111,\"#46039f\"],[0.2222222222222222,\"#7201a8\"],[0.3333333333333333,\"#9c179e\"],[0.4444444444444444,\"#bd3786\"],[0.5555555555555556,\"#d8576b\"],[0.6666666666666666,\"#ed7953\"],[0.7777777777777778,\"#fb9f3a\"],[0.8888888888888888,\"#fdca26\"],[1.0,\"#f0f921\"]]},\"colorway\":[\"#636efa\",\"#EF553B\",\"#00cc96\",\"#ab63fa\",\"#FFA15A\",\"#19d3f3\",\"#FF6692\",\"#B6E880\",\"#FF97FF\",\"#FECB52\"],\"font\":{\"color\":\"#2a3f5f\"},\"geo\":{\"bgcolor\":\"white\",\"lakecolor\":\"white\",\"landcolor\":\"white\",\"showlakes\":true,\"showland\":true,\"subunitcolor\":\"#C8D4E3\"},\"hoverlabel\":{\"align\":\"left\"},\"hovermode\":\"closest\",\"mapbox\":{\"style\":\"light\"},\"paper_bgcolor\":\"white\",\"plot_bgcolor\":\"white\",\"polar\":{\"angularaxis\":{\"gridcolor\":\"#EBF0F8\",\"linecolor\":\"#EBF0F8\",\"ticks\":\"\"},\"bgcolor\":\"white\",\"radialaxis\":{\"gridcolor\":\"#EBF0F8\",\"linecolor\":\"#EBF0F8\",\"ticks\":\"\"}},\"scene\":{\"xaxis\":{\"backgroundcolor\":\"white\",\"gridcolor\":\"#DFE8F3\",\"gridwidth\":2,\"linecolor\":\"#EBF0F8\",\"showbackground\":true,\"ticks\":\"\",\"zerolinecolor\":\"#EBF0F8\"},\"yaxis\":{\"backgroundcolor\":\"white\",\"gridcolor\":\"#DFE8F3\",\"gridwidth\":2,\"linecolor\":\"#EBF0F8\",\"showbackground\":true,\"ticks\":\"\",\"zerolinecolor\":\"#EBF0F8\"},\"zaxis\":{\"backgroundcolor\":\"white\",\"gridcolor\":\"#DFE8F3\",\"gridwidth\":2,\"linecolor\":\"#EBF0F8\",\"showbackground\":true,\"ticks\":\"\",\"zerolinecolor\":\"#EBF0F8\"}},\"shapedefaults\":{\"line\":{\"color\":\"#2a3f5f\"}},\"ternary\":{\"aaxis\":{\"gridcolor\":\"#DFE8F3\",\"linecolor\":\"#A2B1C6\",\"ticks\":\"\"},\"baxis\":{\"gridcolor\":\"#DFE8F3\",\"linecolor\":\"#A2B1C6\",\"ticks\":\"\"},\"bgcolor\":\"white\",\"caxis\":{\"gridcolor\":\"#DFE8F3\",\"linecolor\":\"#A2B1C6\",\"ticks\":\"\"}},\"title\":{\"x\":0.05},\"xaxis\":{\"automargin\":true,\"gridcolor\":\"#EBF0F8\",\"linecolor\":\"#EBF0F8\",\"ticks\":\"\",\"title\":{\"standoff\":15},\"zerolinecolor\":\"#EBF0F8\",\"zerolinewidth\":2},\"yaxis\":{\"automargin\":true,\"gridcolor\":\"#EBF0F8\",\"linecolor\":\"#EBF0F8\",\"ticks\":\"\",\"title\":{\"standoff\":15},\"zerolinecolor\":\"#EBF0F8\",\"zerolinewidth\":2}}},\"legend\":{\"x\":0.01,\"y\":0.99},\"title\":{\"text\":\"Rabi Experiment Results\"},\"xaxis\":{\"title\":{\"text\":\"Amplitude\"}},\"yaxis\":{\"title\":{\"text\":\"Probability\"}}},                        {\"responsive\": true}                    ).then(function(){\n",
       "                            \n",
       "var gd = document.getElementById('5be8def3-66e1-47ea-a2a9-526fd92b1b7d');\n",
       "var x = new MutationObserver(function (mutations, observer) {{\n",
       "        var display = window.getComputedStyle(gd).display;\n",
       "        if (!display || display === 'none') {{\n",
       "            console.log([gd, 'removed!']);\n",
       "            Plotly.purge(gd);\n",
       "            observer.disconnect();\n",
       "        }}\n",
       "}});\n",
       "\n",
       "// Listen for the removal of the full notebook cells\n",
       "var notebookContainer = gd.closest('#notebook-container');\n",
       "if (notebookContainer) {{\n",
       "    x.observe(notebookContainer, {childList: true});\n",
       "}}\n",
       "\n",
       "// Listen for the clearing of the current output cell\n",
       "var outputEl = gd.closest('.output');\n",
       "if (outputEl) {{\n",
       "    x.observe(outputEl, {childList: true});\n",
       "}}\n",
       "\n",
       "                        })                };            </script>        </div>"
      ]
     },
     "metadata": {},
     "output_type": "display_data"
    }
   ],
   "source": [
    "from plotly import graph_objects as go\n",
    "\n",
    "fig = go.Figure()\n",
    "fig.add_trace(go.Scatter(\n",
    "\tx=df['amplitude'],\n",
    "\ty=df['probability'],\n",
    "\tmode='markers',\n",
    "\tmarker=dict(size=8, color='blue', opacity=0.6),\n",
    "\tname='Data Points'\n",
    "))\n",
    "\n",
    "fig.update_layout(\n",
    "\ttitle='Rabi Experiment Results',\n",
    "\txaxis_title='Amplitude',\n",
    "\tyaxis_title='Probability',\n",
    "\tlegend=dict(x=0.01, y=0.99),\n",
    "\ttemplate='plotly_white'\n",
    ")\n",
    "fig.show()\t"
   ]
  },
  {
   "cell_type": "code",
   "execution_count": 26,
   "metadata": {},
   "outputs": [
    {
     "ename": "ValueError",
     "evalue": "\n    Invalid value of type 'builtins.str' received for the 'mode' property of scatter\n        Received value: 'scatter'\n\n    The 'mode' property is a flaglist and may be specified\n    as a string containing:\n      - Any combination of ['lines', 'markers', 'text'] joined with '+' characters\n        (e.g. 'lines+markers')\n        OR exactly one of ['none'] (e.g. 'none')",
     "output_type": "error",
     "traceback": [
      "\u001b[31m---------------------------------------------------------------------------\u001b[39m",
      "\u001b[31mValueError\u001b[39m                                Traceback (most recent call last)",
      "\u001b[36mCell\u001b[39m\u001b[36m \u001b[39m\u001b[32mIn[26]\u001b[39m\u001b[32m, line 15\u001b[39m\n\u001b[32m      3\u001b[39m COLORS = [\n\u001b[32m      4\u001b[39m     \u001b[33m\"\u001b[39m\u001b[33m#0C5DA5\u001b[39m\u001b[33m\"\u001b[39m,\n\u001b[32m      5\u001b[39m     \u001b[33m\"\u001b[39m\u001b[33m#00B945\u001b[39m\u001b[33m\"\u001b[39m,\n\u001b[32m   (...)\u001b[39m\u001b[32m     10\u001b[39m     \u001b[33m\"\u001b[39m\u001b[33m#9e9e9e\u001b[39m\u001b[33m\"\u001b[39m,\n\u001b[32m     11\u001b[39m ]\n\u001b[32m     13\u001b[39m fig = go.Figure()\n\u001b[32m     14\u001b[39m fig.add_trace(\n\u001b[32m---> \u001b[39m\u001b[32m15\u001b[39m \t\u001b[43mgo\u001b[49m\u001b[43m.\u001b[49m\u001b[43mScatter\u001b[49m\u001b[43m(\u001b[49m\n\u001b[32m     16\u001b[39m \u001b[43m\t\u001b[49m\u001b[43mx\u001b[49m\u001b[43m=\u001b[49m\u001b[43mx\u001b[49m\u001b[43m,\u001b[49m\n\u001b[32m     17\u001b[39m \u001b[43m\t\u001b[49m\u001b[43my\u001b[49m\u001b[43m=\u001b[49m\u001b[43my\u001b[49m\u001b[43m,\u001b[49m\n\u001b[32m     18\u001b[39m \u001b[43m\t\u001b[49m\u001b[43mline\u001b[49m\u001b[43m=\u001b[49m\u001b[38;5;28;43mdict\u001b[39;49m\u001b[43m(\u001b[49m\u001b[43mcolor\u001b[49m\u001b[43m=\u001b[49m\u001b[43mCOLORS\u001b[49m\u001b[43m[\u001b[49m\u001b[32;43m1\u001b[39;49m\u001b[43m]\u001b[49m\u001b[43m)\u001b[49m\u001b[43m,\u001b[49m\n\u001b[32m     19\u001b[39m \u001b[43m\t\u001b[49m\u001b[43mmode\u001b[49m\u001b[43m=\u001b[49m\u001b[33;43m\"\u001b[39;49m\u001b[33;43mscatter\u001b[39;49m\u001b[33;43m\"\u001b[39;49m\u001b[43m,\u001b[49m\n\u001b[32m     20\u001b[39m \u001b[43m\t\u001b[49m\u001b[43mname\u001b[49m\u001b[43m=\u001b[49m\u001b[33;43m\"\u001b[39;49m\u001b[33;43mFit\u001b[39;49m\u001b[33;43m\"\u001b[39;49m\u001b[43m,\u001b[49m\n\u001b[32m     21\u001b[39m \u001b[43m\t\u001b[49m\u001b[43m)\u001b[49m\n\u001b[32m     22\u001b[39m )\n",
      "\u001b[36mFile \u001b[39m\u001b[32m~/src/github.com/orangekame3/oqtopus-experiments/.venv/lib/python3.12/site-packages/plotly/graph_objs/_scatter.py:2705\u001b[39m, in \u001b[36mScatter.__init__\u001b[39m\u001b[34m(self, arg, alignmentgroup, cliponaxis, connectgaps, customdata, customdatasrc, dx, dy, error_x, error_y, fill, fillcolor, fillgradient, fillpattern, groupnorm, hoverinfo, hoverinfosrc, hoverlabel, hoveron, hovertemplate, hovertemplatesrc, hovertext, hovertextsrc, ids, idssrc, legend, legendgroup, legendgrouptitle, legendrank, legendwidth, line, marker, meta, metasrc, mode, name, offsetgroup, opacity, orientation, selected, selectedpoints, showlegend, stackgaps, stackgroup, stream, text, textfont, textposition, textpositionsrc, textsrc, texttemplate, texttemplatesrc, uid, uirevision, unselected, visible, x, x0, xaxis, xcalendar, xhoverformat, xperiod, xperiod0, xperiodalignment, xsrc, y, y0, yaxis, ycalendar, yhoverformat, yperiod, yperiod0, yperiodalignment, ysrc, zorder, **kwargs)\u001b[39m\n\u001b[32m   2703\u001b[39m \u001b[38;5;28mself\u001b[39m._set_property(\u001b[33m\"\u001b[39m\u001b[33mmeta\u001b[39m\u001b[33m\"\u001b[39m, arg, meta)\n\u001b[32m   2704\u001b[39m \u001b[38;5;28mself\u001b[39m._set_property(\u001b[33m\"\u001b[39m\u001b[33mmetasrc\u001b[39m\u001b[33m\"\u001b[39m, arg, metasrc)\n\u001b[32m-> \u001b[39m\u001b[32m2705\u001b[39m \u001b[38;5;28;43mself\u001b[39;49m\u001b[43m.\u001b[49m\u001b[43m_set_property\u001b[49m\u001b[43m(\u001b[49m\u001b[33;43m\"\u001b[39;49m\u001b[33;43mmode\u001b[39;49m\u001b[33;43m\"\u001b[39;49m\u001b[43m,\u001b[49m\u001b[43m \u001b[49m\u001b[43marg\u001b[49m\u001b[43m,\u001b[49m\u001b[43m \u001b[49m\u001b[43mmode\u001b[49m\u001b[43m)\u001b[49m\n\u001b[32m   2706\u001b[39m \u001b[38;5;28mself\u001b[39m._set_property(\u001b[33m\"\u001b[39m\u001b[33mname\u001b[39m\u001b[33m\"\u001b[39m, arg, name)\n\u001b[32m   2707\u001b[39m \u001b[38;5;28mself\u001b[39m._set_property(\u001b[33m\"\u001b[39m\u001b[33moffsetgroup\u001b[39m\u001b[33m\"\u001b[39m, arg, offsetgroup)\n",
      "\u001b[36mFile \u001b[39m\u001b[32m~/src/github.com/orangekame3/oqtopus-experiments/.venv/lib/python3.12/site-packages/plotly/basedatatypes.py:4403\u001b[39m, in \u001b[36mBasePlotlyType._set_property\u001b[39m\u001b[34m(self, name, arg, provided)\u001b[39m\n\u001b[32m   4397\u001b[39m \u001b[38;5;28;01mdef\u001b[39;00m\u001b[38;5;250m \u001b[39m\u001b[34m_set_property\u001b[39m(\u001b[38;5;28mself\u001b[39m, name, arg, provided):\n\u001b[32m   4398\u001b[39m \u001b[38;5;250m    \u001b[39m\u001b[33;03m\"\"\"\u001b[39;00m\n\u001b[32m   4399\u001b[39m \u001b[33;03m    Initialize a property of this object using the provided value\u001b[39;00m\n\u001b[32m   4400\u001b[39m \u001b[33;03m    or a value popped from the arguments dictionary. If neither\u001b[39;00m\n\u001b[32m   4401\u001b[39m \u001b[33;03m    is available, do not set the property.\u001b[39;00m\n\u001b[32m   4402\u001b[39m \u001b[33;03m    \"\"\"\u001b[39;00m\n\u001b[32m-> \u001b[39m\u001b[32m4403\u001b[39m     \u001b[43m_set_property_provided_value\u001b[49m\u001b[43m(\u001b[49m\u001b[38;5;28;43mself\u001b[39;49m\u001b[43m,\u001b[49m\u001b[43m \u001b[49m\u001b[43mname\u001b[49m\u001b[43m,\u001b[49m\u001b[43m \u001b[49m\u001b[43marg\u001b[49m\u001b[43m,\u001b[49m\u001b[43m \u001b[49m\u001b[43mprovided\u001b[49m\u001b[43m)\u001b[49m\n",
      "\u001b[36mFile \u001b[39m\u001b[32m~/src/github.com/orangekame3/oqtopus-experiments/.venv/lib/python3.12/site-packages/plotly/basedatatypes.py:398\u001b[39m, in \u001b[36m_set_property_provided_value\u001b[39m\u001b[34m(obj, name, arg, provided)\u001b[39m\n\u001b[32m    396\u001b[39m val = provided \u001b[38;5;28;01mif\u001b[39;00m provided \u001b[38;5;129;01mis\u001b[39;00m \u001b[38;5;129;01mnot\u001b[39;00m \u001b[38;5;28;01mNone\u001b[39;00m \u001b[38;5;28;01melse\u001b[39;00m val\n\u001b[32m    397\u001b[39m \u001b[38;5;28;01mif\u001b[39;00m val \u001b[38;5;129;01mis\u001b[39;00m \u001b[38;5;129;01mnot\u001b[39;00m \u001b[38;5;28;01mNone\u001b[39;00m:\n\u001b[32m--> \u001b[39m\u001b[32m398\u001b[39m     \u001b[43mobj\u001b[49m\u001b[43m[\u001b[49m\u001b[43mname\u001b[49m\u001b[43m]\u001b[49m = val\n",
      "\u001b[36mFile \u001b[39m\u001b[32m~/src/github.com/orangekame3/oqtopus-experiments/.venv/lib/python3.12/site-packages/plotly/basedatatypes.py:4932\u001b[39m, in \u001b[36mBasePlotlyType.__setitem__\u001b[39m\u001b[34m(self, prop, value)\u001b[39m\n\u001b[32m   4928\u001b[39m         \u001b[38;5;28mself\u001b[39m._set_array_prop(prop, value)\n\u001b[32m   4930\u001b[39m     \u001b[38;5;66;03m# ### Handle simple property ###\u001b[39;00m\n\u001b[32m   4931\u001b[39m     \u001b[38;5;28;01melse\u001b[39;00m:\n\u001b[32m-> \u001b[39m\u001b[32m4932\u001b[39m         \u001b[38;5;28;43mself\u001b[39;49m\u001b[43m.\u001b[49m\u001b[43m_set_prop\u001b[49m\u001b[43m(\u001b[49m\u001b[43mprop\u001b[49m\u001b[43m,\u001b[49m\u001b[43m \u001b[49m\u001b[43mvalue\u001b[49m\u001b[43m)\u001b[49m\n\u001b[32m   4933\u001b[39m \u001b[38;5;28;01melse\u001b[39;00m:\n\u001b[32m   4934\u001b[39m     \u001b[38;5;66;03m# Make sure properties dict is initialized\u001b[39;00m\n\u001b[32m   4935\u001b[39m     \u001b[38;5;28mself\u001b[39m._init_props()\n",
      "\u001b[36mFile \u001b[39m\u001b[32m~/src/github.com/orangekame3/oqtopus-experiments/.venv/lib/python3.12/site-packages/plotly/basedatatypes.py:5276\u001b[39m, in \u001b[36mBasePlotlyType._set_prop\u001b[39m\u001b[34m(self, prop, val)\u001b[39m\n\u001b[32m   5274\u001b[39m         \u001b[38;5;28;01mreturn\u001b[39;00m\n\u001b[32m   5275\u001b[39m     \u001b[38;5;28;01melse\u001b[39;00m:\n\u001b[32m-> \u001b[39m\u001b[32m5276\u001b[39m         \u001b[38;5;28;01mraise\u001b[39;00m err\n\u001b[32m   5278\u001b[39m \u001b[38;5;66;03m# val is None\u001b[39;00m\n\u001b[32m   5279\u001b[39m \u001b[38;5;66;03m# -----------\u001b[39;00m\n\u001b[32m   5280\u001b[39m \u001b[38;5;28;01mif\u001b[39;00m val \u001b[38;5;129;01mis\u001b[39;00m \u001b[38;5;28;01mNone\u001b[39;00m:\n\u001b[32m   5281\u001b[39m     \u001b[38;5;66;03m# Check if we should send null update\u001b[39;00m\n",
      "\u001b[36mFile \u001b[39m\u001b[32m~/src/github.com/orangekame3/oqtopus-experiments/.venv/lib/python3.12/site-packages/plotly/basedatatypes.py:5271\u001b[39m, in \u001b[36mBasePlotlyType._set_prop\u001b[39m\u001b[34m(self, prop, val)\u001b[39m\n\u001b[32m   5268\u001b[39m validator = \u001b[38;5;28mself\u001b[39m._get_validator(prop)\n\u001b[32m   5270\u001b[39m \u001b[38;5;28;01mtry\u001b[39;00m:\n\u001b[32m-> \u001b[39m\u001b[32m5271\u001b[39m     val = \u001b[43mvalidator\u001b[49m\u001b[43m.\u001b[49m\u001b[43mvalidate_coerce\u001b[49m\u001b[43m(\u001b[49m\u001b[43mval\u001b[49m\u001b[43m)\u001b[49m\n\u001b[32m   5272\u001b[39m \u001b[38;5;28;01mexcept\u001b[39;00m \u001b[38;5;167;01mValueError\u001b[39;00m \u001b[38;5;28;01mas\u001b[39;00m err:\n\u001b[32m   5273\u001b[39m     \u001b[38;5;28;01mif\u001b[39;00m \u001b[38;5;28mself\u001b[39m._skip_invalid:\n",
      "\u001b[36mFile \u001b[39m\u001b[32m~/src/github.com/orangekame3/oqtopus-experiments/.venv/lib/python3.12/site-packages/_plotly_utils/basevalidators.py:1879\u001b[39m, in \u001b[36mFlaglistValidator.validate_coerce\u001b[39m\u001b[34m(self, v)\u001b[39m\n\u001b[32m   1877\u001b[39m     validated_v = \u001b[38;5;28mself\u001b[39m.vc_scalar(v)\n\u001b[32m   1878\u001b[39m     \u001b[38;5;28;01mif\u001b[39;00m validated_v \u001b[38;5;129;01mis\u001b[39;00m \u001b[38;5;28;01mNone\u001b[39;00m:\n\u001b[32m-> \u001b[39m\u001b[32m1879\u001b[39m         \u001b[38;5;28;43mself\u001b[39;49m\u001b[43m.\u001b[49m\u001b[43mraise_invalid_val\u001b[49m\u001b[43m(\u001b[49m\u001b[43mv\u001b[49m\u001b[43m)\u001b[49m\n\u001b[32m   1881\u001b[39m     v = validated_v\n\u001b[32m   1883\u001b[39m \u001b[38;5;28;01mreturn\u001b[39;00m v\n",
      "\u001b[36mFile \u001b[39m\u001b[32m~/src/github.com/orangekame3/oqtopus-experiments/.venv/lib/python3.12/site-packages/_plotly_utils/basevalidators.py:298\u001b[39m, in \u001b[36mBaseValidator.raise_invalid_val\u001b[39m\u001b[34m(self, v, inds)\u001b[39m\n\u001b[32m    295\u001b[39m             \u001b[38;5;28;01mfor\u001b[39;00m i \u001b[38;5;129;01min\u001b[39;00m inds:\n\u001b[32m    296\u001b[39m                 name += \u001b[33m\"\u001b[39m\u001b[33m[\u001b[39m\u001b[33m\"\u001b[39m + \u001b[38;5;28mstr\u001b[39m(i) + \u001b[33m\"\u001b[39m\u001b[33m]\u001b[39m\u001b[33m\"\u001b[39m\n\u001b[32m--> \u001b[39m\u001b[32m298\u001b[39m         \u001b[38;5;28;01mraise\u001b[39;00m \u001b[38;5;167;01mValueError\u001b[39;00m(\n\u001b[32m    299\u001b[39m \u001b[38;5;250m            \u001b[39m\u001b[33;03m\"\"\"\u001b[39;00m\n\u001b[32m    300\u001b[39m \u001b[33;03m    Invalid value of type {typ} received for the '{name}' property of {pname}\u001b[39;00m\n\u001b[32m    301\u001b[39m \u001b[33;03m        Received value: {v}\u001b[39;00m\n\u001b[32m    302\u001b[39m \n\u001b[32m    303\u001b[39m \u001b[33;03m{valid_clr_desc}\"\"\"\u001b[39;00m.format(\n\u001b[32m    304\u001b[39m                 name=name,\n\u001b[32m    305\u001b[39m                 pname=\u001b[38;5;28mself\u001b[39m.parent_name,\n\u001b[32m    306\u001b[39m                 typ=type_str(v),\n\u001b[32m    307\u001b[39m                 v=\u001b[38;5;28mrepr\u001b[39m(v),\n\u001b[32m    308\u001b[39m                 valid_clr_desc=\u001b[38;5;28mself\u001b[39m.description(),\n\u001b[32m    309\u001b[39m             )\n\u001b[32m    310\u001b[39m         )\n",
      "\u001b[31mValueError\u001b[39m: \n    Invalid value of type 'builtins.str' received for the 'mode' property of scatter\n        Received value: 'scatter'\n\n    The 'mode' property is a flaglist and may be specified\n    as a string containing:\n      - Any combination of ['lines', 'markers', 'text'] joined with '+' characters\n        (e.g. 'lines+markers')\n        OR exactly one of ['none'] (e.g. 'none')"
     ]
    }
   ],
   "source": [
    "x = df['amplitude']\n",
    "y = df['probability']\n",
    "COLORS = [\n",
    "    \"#0C5DA5\",\n",
    "    \"#00B945\",\n",
    "    \"#FF9500\",\n",
    "    \"#FF2C00\",\n",
    "    \"#845B97\",\n",
    "    \"#474747\",\n",
    "    \"#9e9e9e\",\n",
    "]\n",
    "\n",
    "fig = go.Figure()\n",
    "fig.add_trace(\n",
    "\tgo.Scatter(\n",
    "\tx=x,\n",
    "\ty=y,\n",
    "\tline=dict(color=COLORS[1]),\n",
    "\tmode=\"scatter\",\n",
    "\tname=\"Fit\",\n",
    "\t)\n",
    ")\n"
   ]
  },
  {
   "cell_type": "code",
   "execution_count": null,
   "metadata": {},
   "outputs": [],
   "source": []
  }
 ],
 "metadata": {
  "kernelspec": {
   "display_name": "oqtopus-experiments",
   "language": "python",
   "name": "python3"
  },
  "language_info": {
   "codemirror_mode": {
    "name": "ipython",
    "version": 3
   },
   "file_extension": ".py",
   "mimetype": "text/x-python",
   "name": "python",
   "nbconvert_exporter": "python",
   "pygments_lexer": "ipython3",
   "version": "3.12.3"
  }
 },
 "nbformat": 4,
 "nbformat_minor": 4
}